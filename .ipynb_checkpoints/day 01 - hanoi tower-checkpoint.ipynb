{
 "cells": [
  {
   "cell_type": "code",
   "execution_count": null,
   "metadata": {},
   "outputs": [],
   "source": [
    "def hanoiTower(n, deb, aux, fin):\n",
    "    if n == 1:\n",
    "        print('Move disk 1 from {} to {}'.format(deb,fin))\n",
    "        return\n",
    "    hanoiTower(n-1, deb, fin, aux)\n",
    "    print('Move disk from {} to {}'.format(deb,aux))\n",
    "    hanoiTower(n-1, aux,deb, fin)\n",
    "\n",
    "n = int(input('Enter number of disks : '))\n",
    "hanoiTower(n,'A','B','C')"
   ]
  },
  {
   "cell_type": "code",
   "execution_count": null,
   "metadata": {},
   "outputs": [],
   "source": []
  },
  {
   "cell_type": "code",
   "execution_count": null,
   "metadata": {},
   "outputs": [],
   "source": []
  }
 ],
 "metadata": {
  "kernelspec": {
   "display_name": "Python 3",
   "language": "python",
   "name": "python3"
  },
  "language_info": {
   "codemirror_mode": {
    "name": "ipython",
    "version": 3
   },
   "file_extension": ".py",
   "mimetype": "text/x-python",
   "name": "python",
   "nbconvert_exporter": "python",
   "pygments_lexer": "ipython3",
   "version": "3.7.6"
  }
 },
 "nbformat": 4,
 "nbformat_minor": 4
}
